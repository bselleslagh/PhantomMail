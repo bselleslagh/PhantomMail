{
 "cells": [
  {
   "cell_type": "markdown",
   "metadata": {},
   "source": [
    "# PhantomMail\n",
    "This library is meant for generating fake emails for a specific topic. We will use the Python library faker to generate fake email addresses and company names and then we will use Ollama with Phi4 to generate the actual email contents.\n",
    "\n",
    "Once the email is complete we will use Resend to send the email to a specific email address \n",
    "\n",
    "In this case, we will be generating fake order emails to request transports. "
   ]
  },
  {
   "cell_type": "code",
   "execution_count": null,
   "metadata": {},
   "outputs": [],
   "source": "import nest_asyncio\nnest_asyncio.apply()\n\nfrom IPython.display import Markdown, display, Image\nfrom dotenv import load_dotenv\nfrom phantommail.graphs import graph\nimport os\n\n\nload_dotenv()\n\n\ndisplay(Image(graph.get_graph().draw_mermaid_png()))\n\nconfig = {\"configurable\": {\"sender\": os.environ[\"SENDER_EMAIL\"]}}\nresponse = await graph.ainvoke({'recipients': ['ben@vectrix.ai'], 'email_type': 'order'}, config=config)"
  },
  {
   "cell_type": "code",
   "execution_count": null,
   "metadata": {},
   "outputs": [],
   "source": [
    "response"
   ]
  },
  {
   "cell_type": "code",
   "execution_count": null,
   "metadata": {},
   "outputs": [],
   "source": [
    "from langgraph_sdk import get_client\n",
    "\n",
    "client = get_client(url=os.environ['LANGGRAPH_URL'])\n",
    "# Using the graph deployed with the name \"agent\"\n",
    "assistant_id = \"graph\"\n",
    "# create thread\n",
    "thread = await client.threads.create()\n",
    "print(thread)"
   ]
  },
  {
   "cell_type": "code",
   "execution_count": null,
   "metadata": {},
   "outputs": [],
   "source": [
    "config = {\"configurable\": {\"sender\": os.environ[\"SENDER_EMAIL\"]}}\n",
    "\n",
    "# This schedules a job to run at 15:27 (3:27PM) every day\n",
    "cron_job_stateless = await client.crons.create(\n",
    "    \"graph\",\n",
    "    schedule=\"* * * * *\",\n",
    "    input={'recipients': ['vectrix-test@outlook.com']}, \n",
    "    config=config,\n",
    ")\n",
    "\n",
    "cron_job_stateless"
   ]
  },
  {
   "cell_type": "code",
   "execution_count": null,
   "metadata": {},
   "outputs": [],
   "source": [
    "await client.crons.delete(cron_job_stateless[\"cron_id\"])"
   ]
  }
 ],
 "metadata": {
  "kernelspec": {
   "display_name": "phantommail",
   "language": "python",
   "name": "python3"
  },
  "language_info": {
   "codemirror_mode": {
    "name": "ipython",
    "version": 3
   },
   "file_extension": ".py",
   "mimetype": "text/x-python",
   "name": "python",
   "nbconvert_exporter": "python",
   "pygments_lexer": "ipython3",
   "version": "3.13.0"
  }
 },
 "nbformat": 4,
 "nbformat_minor": 2
}